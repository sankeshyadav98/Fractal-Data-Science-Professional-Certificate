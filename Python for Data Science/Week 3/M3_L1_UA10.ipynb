{
 "cells": [
  {
   "cell_type": "markdown",
   "metadata": {},
   "source": [
    "# Lab for module 3 lesson 1"
   ]
  },
  {
   "cell_type": "markdown",
   "metadata": {},
   "source": [
    "Topics covered\n",
    "- Measures of central tendency (mean, median, *etc.*)\n",
    "- Measures of dispersion (variance, standard deviation, quantiles, *etc.*)\n",
    "- Interpreting descriptive statistics"
   ]
  },
  {
   "cell_type": "markdown",
   "metadata": {},
   "source": [
    "**Problem Statement & Data Description**\n",
    "\n",
    "*Client: ABC Retail, Incorporated, rest-of-the-world division* \n",
    "\n",
    "***Project name: Online retail sales analysis*** \n",
    "\n",
    "An online retailer, ABC, Inc., operates in nearly 100 countries worldwide, selling furniture, office supplies and technology products to customers in three segments: consumer, corporate and home office. ABC, Inc. is a US-based company, and it has two major divisions: US and rest of the world. We are working with the rest of the world division of the company. \n",
    "\n",
    "They have provided us with online sales transaction data from 2011 to 2014.\n",
    "\n",
    "We are given 3 datasets:-\n",
    "\n",
    "1. Data on each sale; 51290 records; all data in US dollars\n",
    "It contains fields like\n",
    "**order_id** (identifier) ,order_date ,ship_date ,ship_mode ,**customer_id**(identifier) ,product_id ,category ,sub_category ,product_name ,sales ,quantity ,discount ,profit ,shipping_cost ,order_priority ,**vendor_code** (identifier) \n",
    "\n",
    "\n",
    "2. Data on the customers; 1590 records \n",
    "It contains fields like\n",
    "**customer_id** (identifier) ,customer_name ,city ,state ,country ,postal_code ,segment ,market ,region \n",
    "\n",
    "3. Data on vendors who supply the retailer; 65 records \n",
    "It contains fields like\n",
    "vendor ,**vendor_code** (identifier) \n",
    "\n",
    "We need to analyze the data and need to provide answer to different questions asked by company officials."
   ]
  },
  {
   "cell_type": "code",
   "execution_count": 6,
   "metadata": {
    "code_folding": []
   },
   "outputs": [
    {
     "data": {
      "text/html": [
       "<div>\n",
       "<style scoped>\n",
       "    .dataframe tbody tr th:only-of-type {\n",
       "        vertical-align: middle;\n",
       "    }\n",
       "\n",
       "    .dataframe tbody tr th {\n",
       "        vertical-align: top;\n",
       "    }\n",
       "\n",
       "    .dataframe thead th {\n",
       "        text-align: right;\n",
       "    }\n",
       "</style>\n",
       "<table border=\"1\" class=\"dataframe\">\n",
       "  <thead>\n",
       "    <tr style=\"text-align: right;\">\n",
       "      <th></th>\n",
       "      <th>row_id</th>\n",
       "      <th>order_id</th>\n",
       "      <th>order_date</th>\n",
       "      <th>ship_date</th>\n",
       "      <th>ship_mode</th>\n",
       "      <th>customer_id</th>\n",
       "      <th>product_id</th>\n",
       "      <th>category</th>\n",
       "      <th>sub_category</th>\n",
       "      <th>product_name</th>\n",
       "      <th>sales</th>\n",
       "      <th>quantity</th>\n",
       "      <th>discount</th>\n",
       "      <th>profit</th>\n",
       "      <th>shipping_cost</th>\n",
       "      <th>order_priority</th>\n",
       "      <th>vendor_code</th>\n",
       "    </tr>\n",
       "  </thead>\n",
       "  <tbody>\n",
       "    <tr>\n",
       "      <th>0</th>\n",
       "      <td>1</td>\n",
       "      <td>MX-2014-143658</td>\n",
       "      <td>02/10/2014</td>\n",
       "      <td>06/10/2014</td>\n",
       "      <td>Standard Class</td>\n",
       "      <td>SC-20575</td>\n",
       "      <td>OFF-LA-10002782</td>\n",
       "      <td>Office Supplies</td>\n",
       "      <td>Labels</td>\n",
       "      <td>Hon File Folder Labels, Adjustable</td>\n",
       "      <td>13.08</td>\n",
       "      <td>3</td>\n",
       "      <td>0.0</td>\n",
       "      <td>4.56</td>\n",
       "      <td>1.03</td>\n",
       "      <td>Medium</td>\n",
       "      <td>VE_001</td>\n",
       "    </tr>\n",
       "    <tr>\n",
       "      <th>1</th>\n",
       "      <td>2</td>\n",
       "      <td>MX-2012-155047</td>\n",
       "      <td>15/10/2012</td>\n",
       "      <td>20/10/2012</td>\n",
       "      <td>Standard Class</td>\n",
       "      <td>KW-16570</td>\n",
       "      <td>FUR-FU-10004015</td>\n",
       "      <td>Furniture</td>\n",
       "      <td>Furnishings</td>\n",
       "      <td>Tenex Clock, Durable</td>\n",
       "      <td>252.16</td>\n",
       "      <td>8</td>\n",
       "      <td>0.0</td>\n",
       "      <td>90.72</td>\n",
       "      <td>13.45</td>\n",
       "      <td>Medium</td>\n",
       "      <td>VE_002</td>\n",
       "    </tr>\n",
       "    <tr>\n",
       "      <th>2</th>\n",
       "      <td>3</td>\n",
       "      <td>MX-2012-155047</td>\n",
       "      <td>15/10/2012</td>\n",
       "      <td>20/10/2012</td>\n",
       "      <td>Standard Class</td>\n",
       "      <td>KW-16570</td>\n",
       "      <td>FUR-BO-10002352</td>\n",
       "      <td>Furniture</td>\n",
       "      <td>Bookcases</td>\n",
       "      <td>Ikea 3-Shelf Cabinet, Mobile</td>\n",
       "      <td>193.28</td>\n",
       "      <td>2</td>\n",
       "      <td>0.0</td>\n",
       "      <td>54.08</td>\n",
       "      <td>9.63</td>\n",
       "      <td>Medium</td>\n",
       "      <td>VE_003</td>\n",
       "    </tr>\n",
       "    <tr>\n",
       "      <th>3</th>\n",
       "      <td>4</td>\n",
       "      <td>MX-2012-155047</td>\n",
       "      <td>15/10/2012</td>\n",
       "      <td>20/10/2012</td>\n",
       "      <td>Standard Class</td>\n",
       "      <td>KW-16570</td>\n",
       "      <td>OFF-BI-10004428</td>\n",
       "      <td>Office Supplies</td>\n",
       "      <td>Binders</td>\n",
       "      <td>Cardinal Binder, Clear</td>\n",
       "      <td>35.44</td>\n",
       "      <td>4</td>\n",
       "      <td>0.0</td>\n",
       "      <td>4.96</td>\n",
       "      <td>1.37</td>\n",
       "      <td>Medium</td>\n",
       "      <td>VE_004</td>\n",
       "    </tr>\n",
       "    <tr>\n",
       "      <th>4</th>\n",
       "      <td>5</td>\n",
       "      <td>MX-2012-155047</td>\n",
       "      <td>15/10/2012</td>\n",
       "      <td>20/10/2012</td>\n",
       "      <td>Standard Class</td>\n",
       "      <td>KW-16570</td>\n",
       "      <td>OFF-AR-10004594</td>\n",
       "      <td>Office Supplies</td>\n",
       "      <td>Art</td>\n",
       "      <td>Sanford Canvas, Water Color</td>\n",
       "      <td>71.60</td>\n",
       "      <td>2</td>\n",
       "      <td>0.0</td>\n",
       "      <td>11.44</td>\n",
       "      <td>3.79</td>\n",
       "      <td>Medium</td>\n",
       "      <td>VE_005</td>\n",
       "    </tr>\n",
       "  </tbody>\n",
       "</table>\n",
       "</div>"
      ],
      "text/plain": [
       "   row_id        order_id  order_date   ship_date       ship_mode customer_id  \\\n",
       "0       1  MX-2014-143658  02/10/2014  06/10/2014  Standard Class    SC-20575   \n",
       "1       2  MX-2012-155047  15/10/2012  20/10/2012  Standard Class    KW-16570   \n",
       "2       3  MX-2012-155047  15/10/2012  20/10/2012  Standard Class    KW-16570   \n",
       "3       4  MX-2012-155047  15/10/2012  20/10/2012  Standard Class    KW-16570   \n",
       "4       5  MX-2012-155047  15/10/2012  20/10/2012  Standard Class    KW-16570   \n",
       "\n",
       "        product_id         category sub_category  \\\n",
       "0  OFF-LA-10002782  Office Supplies       Labels   \n",
       "1  FUR-FU-10004015        Furniture  Furnishings   \n",
       "2  FUR-BO-10002352        Furniture    Bookcases   \n",
       "3  OFF-BI-10004428  Office Supplies      Binders   \n",
       "4  OFF-AR-10004594  Office Supplies          Art   \n",
       "\n",
       "                         product_name   sales  quantity  discount  profit  \\\n",
       "0  Hon File Folder Labels, Adjustable   13.08         3       0.0    4.56   \n",
       "1                Tenex Clock, Durable  252.16         8       0.0   90.72   \n",
       "2        Ikea 3-Shelf Cabinet, Mobile  193.28         2       0.0   54.08   \n",
       "3              Cardinal Binder, Clear   35.44         4       0.0    4.96   \n",
       "4         Sanford Canvas, Water Color   71.60         2       0.0   11.44   \n",
       "\n",
       "   shipping_cost order_priority vendor_code  \n",
       "0           1.03         Medium      VE_001  \n",
       "1          13.45         Medium      VE_002  \n",
       "2           9.63         Medium      VE_003  \n",
       "3           1.37         Medium      VE_004  \n",
       "4           3.79         Medium      VE_005  "
      ]
     },
     "execution_count": 6,
     "metadata": {},
     "output_type": "execute_result"
    }
   ],
   "source": [
    "# reading the data , libraries\n",
    "import pandas as pd\n",
    "import matplotlib.pyplot as plt\n",
    "import numpy as np\n",
    "import seaborn as sns\n",
    "import warnings\n",
    "# Use the warning filter context manager to temporarily suppress warnings\n",
    "warnings.filterwarnings(\"ignore\")\n",
    "\n",
    "sales = pd.read_csv('sales_data.csv')\n",
    "vendors=pd.read_csv('vendors.csv')\n",
    "sales.head()"
   ]
  },
  {
   "cell_type": "markdown",
   "metadata": {},
   "source": [
    "### Q1. In which year did the 'Furniture' category yield the highest average profit per transaction? And in which year was there the highest variability?\n",
    "\n",
    "**Hint:** standard deviation is a good measure of variability in this context"
   ]
  },
  {
   "cell_type": "code",
   "execution_count": 7,
   "metadata": {},
   "outputs": [
    {
     "name": "stdout",
     "output_type": "stream",
     "text": [
      "The Furniture category yield the highest average profit per transaction in year 2013\n",
      "The highest variability in year 2011\n"
     ]
    }
   ],
   "source": [
    "# write your code here\n",
    "sales['order_date']=pd.to_datetime(sales['order_date'],format='%d/%m/%Y')\n",
    "\n",
    "sales['order_yr'] = sales['order_date'].dt.year\n",
    "\n",
    "furniture_sales = sales[sales['category']=='Furniture']\n",
    "\n",
    "furniture_sales_mean = furniture_sales.groupby('order_yr')['profit'].mean().sort_values(ascending=False)\n",
    "print('The Furniture category yield the highest average profit per transaction in year',furniture_sales_mean.index[0])\n",
    "\n",
    "furniture_sales_std = furniture_sales.groupby('order_yr')['profit'].std()\n",
    "print('The highest variability in year',furniture_sales_std.index[0])\n",
    "\n",
    "\n"
   ]
  },
  {
   "cell_type": "markdown",
   "metadata": {},
   "source": [
    "### Q2. Is there a big difference in the sales amounts between the different shipping modes? In other words, is there any pattern that suggests higher value sales prefer 'First Class' shipping while lower value sales prefer 'Standard' shipping?\n",
    "\n",
    "You might not be able to answer this statistically at this point, but you will be able to make a very good estimate"
   ]
  },
  {
   "cell_type": "code",
   "execution_count": 8,
   "metadata": {},
   "outputs": [
    {
     "name": "stdout",
     "output_type": "stream",
     "text": [
      "ship_mode\n",
      "First Class       1.784340e+06\n",
      "Same Day          6.481297e+05\n",
      "Second Class      2.486348e+06\n",
      "Standard Class    7.327421e+06\n",
      "Name: sales, dtype: float64\n"
     ]
    },
    {
     "data": {
      "image/png": "[encoded data removed]",
      "text/plain": [
       "<Figure size 432x288 with 1 Axes>"
      ]
     },
     "metadata": {
      "needs_background": "light"
     },
     "output_type": "display_data"
    },
    {
     "name": "stdout",
     "output_type": "stream",
     "text": [
      "Difference in sales between standard class & first class is 5543080.335100139\n"
     ]
    }
   ],
   "source": [
    "#Write your code\n",
    "print(sales.groupby('ship_mode')['sales'].sum())\n",
    "\n",
    "### Plotting sales for different shipping modes\n",
    "sales.groupby('ship_mode')['sales'].sum().plot(kind='barh')\n",
    "plt.xlabel('Sales (in millions)')\n",
    "plt.ylabel('Ship_mode')\n",
    "plt.title('Sales wrto Ship_mode')\n",
    "plt.show()\n",
    "\n",
    "\n",
    "sales_df=sales.groupby('ship_mode')['sales'].sum().reset_index()\n",
    "\n",
    "### Calculating sales difference between standard class & first class\n",
    "sdff_sc_fc=float(sales_df.loc[sales_df['ship_mode']=='Standard Class','sales'])-float(sales_df.loc[sales_df['ship_mode']=='First Class','sales'])\n",
    "print(f'Difference in sales between standard class & first class is {sdff_sc_fc}')\n"
   ]
  },
  {
   "cell_type": "markdown",
   "metadata": {},
   "source": [
    "### Q3. Which vendor is associated with the smallest variation in sale amounts within the category 'Office Supplies'?\n",
    "\n",
    "**Hint:**\n",
    "- Use the vendor code, or get the vendor name from the vendors.csv data set)\n",
    "- As before, standard deviation is a good measure of variation"
   ]
  },
  {
   "cell_type": "code",
   "execution_count": 9,
   "metadata": {},
   "outputs": [
    {
     "data": {
      "text/plain": [
       "vendor\n",
       "Whizystems    165.079419\n",
       "Name: sales, dtype: float64"
      ]
     },
     "execution_count": 9,
     "metadata": {},
     "output_type": "execute_result"
    }
   ],
   "source": [
    "# write your code here\n",
    "sales = sales.merge(vendors,on='vendor_code',how='left')\n",
    "\n",
    "sales_ofc = sales[sales['category']=='Office Supplies']\n",
    "sales_ofc.groupby('vendor')['sales'].std().sort_values(ascending=True)[0:1]"
   ]
  },
  {
   "cell_type": "markdown",
   "metadata": {},
   "source": [
    "### Q4. Which subcategory has the smallest IQR and which one has the largest IQR for sales?\n",
    "\n",
    "You might need a little bit of data manipulation to get this one"
   ]
  },
  {
   "cell_type": "code",
   "execution_count": 12,
   "metadata": {},
   "outputs": [
    {
     "data": {
      "text/plain": [
       "sub_category\n",
       "Labels          24.596250\n",
       "Fasteners       30.447200\n",
       "Binders         50.475000\n",
       "Envelopes       67.126000\n",
       "Paper           68.284350\n",
       "Supplies        75.600000\n",
       "Art             77.166800\n",
       "Furnishings    117.480000\n",
       "Accessories    206.955900\n",
       "Storage        221.041000\n",
       "Chairs         384.741750\n",
       "Phones         420.140000\n",
       "Machines       484.543125\n",
       "Bookcases      524.820500\n",
       "Copiers        546.590010\n",
       "Appliances     617.335000\n",
       "Tables         783.684000\n",
       "Name: sales, dtype: float64"
      ]
     },
     "execution_count": 12,
     "metadata": {},
     "output_type": "execute_result"
    }
   ],
   "source": [
    "# write your code here\n",
    "def get_IQR(data):\n",
    "    q1 = np.percentile(data,25)\n",
    "    q3 = np.percentile(data,75)\n",
    "    IQR = q3-q1\n",
    "    return IQR\n",
    "\n",
    "sales.groupby('sub_category')['sales'].apply(get_IQR).sort_values()"
   ]
  },
  {
   "cell_type": "markdown",
   "metadata": {},
   "source": [
    "### Q5. Plot a histogram of shipping cost. How would you describe the distribution?"
   ]
  },
  {
   "cell_type": "code",
   "execution_count": 14,
   "metadata": {},
   "outputs": [
    {
     "name": "stdout",
     "output_type": "stream",
     "text": [
      "count    51290.000000\n",
      "mean        26.375915\n",
      "std         57.296804\n",
      "min          0.000000\n",
      "25%          2.610000\n",
      "50%          7.790000\n",
      "75%         24.450000\n",
      "max        933.570000\n",
      "Name: shipping_cost, dtype: float64\n",
      "5.863226425710675\n"
     ]
    },
    {
     "data": {
      "image/png": "[encoded data removed]",
      "text/plain": [
       "<Figure size 432x288 with 1 Axes>"
      ]
     },
     "metadata": {
      "needs_background": "light"
     },
     "output_type": "display_data"
    }
   ],
   "source": [
    "# write your code here\n",
    "\n",
    "plt.hist(sales['shipping_cost'])\n",
    "## plot title\n",
    "plt.title(' Shipping cost Distribution')\n",
    "## plot's x,y labels\n",
    "plt.ylabel('Density')\n",
    "plt.xlabel('Shipping_Cost')\n",
    "plt.tight_layout()\n",
    "\n",
    "print(sales['shipping_cost'].describe())\n",
    "print(sales['shipping_cost'].skew())"
   ]
  },
  {
   "cell_type": "markdown",
   "metadata": {},
   "source": [
    "## Solutions"
   ]
  },
  {
   "cell_type": "code",
   "execution_count": 7,
   "metadata": {},
   "outputs": [
    {
     "name": "stdout",
     "output_type": "stream",
     "text": [
      "Category Furniture yield the highest average profit per transaction in year 2013.\n",
      "Category Furniture yield the highest variability for profit per transaction in year 2014.\n"
     ]
    }
   ],
   "source": [
    "# Q.1:-\n",
    "# write your code here\n",
    "\n",
    "### Extracting yr from order date\n",
    "sales['order_date']=pd.to_datetime(sales['order_date'],format='%d/%m/%Y')\n",
    "\n",
    "\n",
    "sales['order_yr']=sales['order_date'].dt.year\n",
    "\n",
    "### Subsetting for Furniture data\n",
    "furniture_sales= sales[sales['category']=='Furniture']\n",
    "\n",
    "### Grouping on order year and aggregating profits with sum\n",
    "furniture_sales_mean=furniture_sales.groupby('order_yr')['profit'].mean().sort_values(ascending=False)\n",
    "print(f\"Category Furniture yield the highest average profit per transaction in year {furniture_sales_mean.index[0]}.\")\n",
    "\n",
    "### Grouping on order year and aggregating profits with standard_deviation\n",
    "furniture_sales_std=furniture_sales.groupby('order_yr')['profit'].std().sort_values(ascending=False)\n",
    "print(f\"Category Furniture yield the highest variability for profit per transaction in year {furniture_sales_std.index[0]}.\")\n"
   ]
  },
  {
   "cell_type": "code",
   "execution_count": 8,
   "metadata": {},
   "outputs": [
    {
     "name": "stdout",
     "output_type": "stream",
     "text": [
      "ship_mode\n",
      "First Class       1.784340e+06\n",
      "Same Day          6.481297e+05\n",
      "Second Class      2.486348e+06\n",
      "Standard Class    7.327421e+06\n",
      "Name: sales, dtype: float64\n"
     ]
    },
    {
     "data": {
      "image/png": "[encoded data removed]",
      "text/plain": [
       "<Figure size 640x480 with 1 Axes>"
      ]
     },
     "metadata": {},
     "output_type": "display_data"
    },
    {
     "name": "stdout",
     "output_type": "stream",
     "text": [
      "Difference in sales between standard class & first class is 5543080.335100001\n"
     ]
    }
   ],
   "source": [
    "# Q.2:-\n",
    "### Grouping on ship mode and aggregating sales with sum\n",
    "print(sales.groupby('ship_mode')['sales'].sum())\n",
    "\n",
    "### Plotting sales for different shipping modes\n",
    "sales.groupby('ship_mode')['sales'].sum().plot(kind='barh')\n",
    "plt.xlabel('Sales (in millions)')\n",
    "plt.ylabel('Ship_mode')\n",
    "plt.title('Sales wrto Ship_mode')\n",
    "plt.show()\n",
    "\n",
    "\n",
    "sales_df=sales.groupby('ship_mode')['sales'].sum().reset_index()\n",
    "\n",
    "### Calculating sales difference between standard class & first class\n",
    "sdff_sc_fc=float(sales_df.loc[sales_df['ship_mode']=='Standard Class','sales'])-float(sales_df.loc[sales_df['ship_mode']=='First Class','sales'])\n",
    "print(f'Difference in sales between standard class & first class is {sdff_sc_fc}')\n",
    "\n"
   ]
  },
  {
   "cell_type": "code",
   "execution_count": 9,
   "metadata": {},
   "outputs": [],
   "source": [
    "# Q3 - ### In order to get sales details for vendors we need to merge the sales and vendor data.\n",
    "sales=sales.merge(vendors,on='vendor_code',how='left')"
   ]
  },
  {
   "cell_type": "code",
   "execution_count": 10,
   "metadata": {},
   "outputs": [
    {
     "data": {
      "text/plain": [
       "vendor\n",
       "Whizystems    165.079419\n",
       "Name: sales, dtype: float64"
      ]
     },
     "execution_count": 10,
     "metadata": {},
     "output_type": "execute_result"
    }
   ],
   "source": [
    "# Continuing Q3 -\n",
    "sales_os= sales[sales['category']=='Office Supplies']\n",
    "sales_os.groupby('vendor')['sales'].std().sort_values(ascending=True)[0:1]"
   ]
  },
  {
   "cell_type": "code",
   "execution_count": 11,
   "metadata": {},
   "outputs": [
    {
     "data": {
      "text/plain": [
       "sub_category\n",
       "Labels          24.596250\n",
       "Fasteners       30.447200\n",
       "Binders         50.475000\n",
       "Envelopes       67.126000\n",
       "Paper           68.284350\n",
       "Supplies        75.600000\n",
       "Art             77.166800\n",
       "Furnishings    117.480000\n",
       "Accessories    206.955900\n",
       "Storage        221.041000\n",
       "Chairs         384.741750\n",
       "Phones         420.140000\n",
       "Machines       484.543125\n",
       "Bookcases      524.820500\n",
       "Copiers        546.590010\n",
       "Appliances     617.335000\n",
       "Tables         783.684000\n",
       "Name: sales, dtype: float64"
      ]
     },
     "execution_count": 11,
     "metadata": {},
     "output_type": "execute_result"
    }
   ],
   "source": [
    "#Q.4:-\n",
    "### IQR is basically difference between 3rd quartile & 1st quartile which tells you about spread.\n",
    "def get_IQR(data):\n",
    "    Q1= np.percentile(data,25)\n",
    "    Q3= np.percentile(data,75)\n",
    "    IQR= Q3- Q1\n",
    "    return IQR\n",
    "\n",
    "sales.groupby('sub_category')['sales'].apply(get_IQR).sort_values()\n",
    "### As an exercise ,Extract the 1st & last values for IQR from this series."
   ]
  },
  {
   "cell_type": "code",
   "execution_count": 12,
   "metadata": {},
   "outputs": [
    {
     "name": "stdout",
     "output_type": "stream",
     "text": [
      "count    51290.000000\n",
      "mean        26.375915\n",
      "std         57.296804\n",
      "min          0.000000\n",
      "25%          2.610000\n",
      "50%          7.790000\n",
      "75%         24.450000\n",
      "max        933.570000\n",
      "Name: shipping_cost, dtype: float64\n"
     ]
    },
    {
     "data": {
      "image/png": "[encoded data removed]",
      "text/plain": [
       "<Figure size 640x480 with 1 Axes>"
      ]
     },
     "metadata": {},
     "output_type": "display_data"
    }
   ],
   "source": [
    "# Q5 - \n",
    "\n",
    "## Plotting distplot using seaborn \n",
    "sns.distplot(sales['shipping_cost'])\n",
    "## plot title\n",
    "plt.title(' Shipping cost Distribution')\n",
    "## plot's x,y labels\n",
    "plt.ylabel('Density')\n",
    "plt.xlabel('Shipping_Cost')\n",
    "plt.tight_layout()\n",
    "\n",
    "print(sales['shipping_cost'].describe())"
   ]
  },
  {
   "cell_type": "markdown",
   "metadata": {},
   "source": [
    "##### We could observe that the distribution is positively skewed."
   ]
  }
 ],
 "metadata": {
  "kernelspec": {
   "display_name": "Python 3",
   "language": "python",
   "name": "python3"
  },
  "language_info": {
   "codemirror_mode": {
    "name": "ipython",
    "version": 3
   },
   "file_extension": ".py",
   "mimetype": "text/x-python",
   "name": "python",
   "nbconvert_exporter": "python",
   "pygments_lexer": "ipython3",
   "version": "3.7.6"
  }
 },
 "nbformat": 4,
 "nbformat_minor": 5
}
