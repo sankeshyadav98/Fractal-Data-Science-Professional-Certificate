{
 "cells": [
  {
   "cell_type": "markdown",
   "metadata": {},
   "source": [
    "# Lab for module 2 lesson 3"
   ]
  },
  {
   "cell_type": "markdown",
   "metadata": {},
   "source": [
    "Topics covered:\n",
    "- understanding basic statistical features of the data\n",
    "- creating subsets of the data based on logical conditions"
   ]
  },
  {
   "cell_type": "markdown",
   "metadata": {},
   "source": [
    "**Problem Statement & Data Description**\n",
    "\n",
    "*Client: ABC Retail, Incorporated, rest-of-the-world division* \n",
    "\n",
    "***Project name: Online retail sales analysis*** \n",
    "\n",
    "An online retailer, ABC, Inc., operates in nearly 100 countries worldwide, selling furniture, office supplies and technology products to customers in three segments: consumer, corporate and home office. ABC, Inc. is a US-based company, and it has two major divisions: US and rest of the world. We are working with the rest of the world division of the company. \n",
    "\n",
    "They have provided us with online sales transaction data from 2011 to 2014.\n",
    "\n",
    "We are given 3 datasets:-\n",
    "\n",
    "1. Data on each sale; 51290 records; all data in US dollars\n",
    "It contains fields like\n",
    "**order_id** (identifier) ,order_date ,ship_date ,ship_mode ,**customer_id**(identifier) ,product_id ,category ,sub_category ,product_name ,sales ,quantity ,discount ,profit ,shipping_cost ,order_priority ,**vendor_code** (identifier) \n",
    "\n",
    "\n",
    "2. Data on the customers; 1590 records \n",
    "It contains fields like\n",
    "**customer_id** (identifier) ,customer_name ,city ,state ,country ,postal_code ,segment ,market ,region \n",
    "\n",
    "3. Data on vendors who supply the retailer; 65 records \n",
    "It contains fields like\n",
    "vendor ,**vendor_code** (identifier) \n",
    "\n",
    "We need to analyze the data and need to provide answer to different questions asked by company officials."
   ]
  },
  {
   "cell_type": "markdown",
   "metadata": {},
   "source": [
    "### Read the retail sales data (sales_data.csv)"
   ]
  },
  {
   "cell_type": "code",
   "execution_count": 2,
   "metadata": {},
   "outputs": [
    {
     "data": {
      "text/html": [
       "<div>\n",
       "<style scoped>\n",
       "    .dataframe tbody tr th:only-of-type {\n",
       "        vertical-align: middle;\n",
       "    }\n",
       "\n",
       "    .dataframe tbody tr th {\n",
       "        vertical-align: top;\n",
       "    }\n",
       "\n",
       "    .dataframe thead th {\n",
       "        text-align: right;\n",
       "    }\n",
       "</style>\n",
       "<table border=\"1\" class=\"dataframe\">\n",
       "  <thead>\n",
       "    <tr style=\"text-align: right;\">\n",
       "      <th></th>\n",
       "      <th>row_id</th>\n",
       "      <th>order_id</th>\n",
       "      <th>order_date</th>\n",
       "      <th>ship_date</th>\n",
       "      <th>ship_mode</th>\n",
       "      <th>customer_id</th>\n",
       "      <th>product_id</th>\n",
       "      <th>category</th>\n",
       "      <th>sub_category</th>\n",
       "      <th>product_name</th>\n",
       "      <th>sales</th>\n",
       "      <th>quantity</th>\n",
       "      <th>discount</th>\n",
       "      <th>profit</th>\n",
       "      <th>shipping_cost</th>\n",
       "      <th>order_priority</th>\n",
       "      <th>vendor_code</th>\n",
       "    </tr>\n",
       "  </thead>\n",
       "  <tbody>\n",
       "    <tr>\n",
       "      <th>0</th>\n",
       "      <td>1</td>\n",
       "      <td>MX-2014-143658</td>\n",
       "      <td>02/10/2014</td>\n",
       "      <td>06/10/2014</td>\n",
       "      <td>Standard Class</td>\n",
       "      <td>SC-20575</td>\n",
       "      <td>OFF-LA-10002782</td>\n",
       "      <td>Office Supplies</td>\n",
       "      <td>Labels</td>\n",
       "      <td>Hon File Folder Labels, Adjustable</td>\n",
       "      <td>13.08</td>\n",
       "      <td>3</td>\n",
       "      <td>0.0</td>\n",
       "      <td>4.56</td>\n",
       "      <td>1.03</td>\n",
       "      <td>Medium</td>\n",
       "      <td>VE_001</td>\n",
       "    </tr>\n",
       "    <tr>\n",
       "      <th>1</th>\n",
       "      <td>2</td>\n",
       "      <td>MX-2012-155047</td>\n",
       "      <td>15/10/2012</td>\n",
       "      <td>20/10/2012</td>\n",
       "      <td>Standard Class</td>\n",
       "      <td>KW-16570</td>\n",
       "      <td>FUR-FU-10004015</td>\n",
       "      <td>Furniture</td>\n",
       "      <td>Furnishings</td>\n",
       "      <td>Tenex Clock, Durable</td>\n",
       "      <td>252.16</td>\n",
       "      <td>8</td>\n",
       "      <td>0.0</td>\n",
       "      <td>90.72</td>\n",
       "      <td>13.45</td>\n",
       "      <td>Medium</td>\n",
       "      <td>VE_002</td>\n",
       "    </tr>\n",
       "    <tr>\n",
       "      <th>2</th>\n",
       "      <td>3</td>\n",
       "      <td>MX-2012-155047</td>\n",
       "      <td>15/10/2012</td>\n",
       "      <td>20/10/2012</td>\n",
       "      <td>Standard Class</td>\n",
       "      <td>KW-16570</td>\n",
       "      <td>FUR-BO-10002352</td>\n",
       "      <td>Furniture</td>\n",
       "      <td>Bookcases</td>\n",
       "      <td>Ikea 3-Shelf Cabinet, Mobile</td>\n",
       "      <td>193.28</td>\n",
       "      <td>2</td>\n",
       "      <td>0.0</td>\n",
       "      <td>54.08</td>\n",
       "      <td>9.63</td>\n",
       "      <td>Medium</td>\n",
       "      <td>VE_003</td>\n",
       "    </tr>\n",
       "    <tr>\n",
       "      <th>3</th>\n",
       "      <td>4</td>\n",
       "      <td>MX-2012-155047</td>\n",
       "      <td>15/10/2012</td>\n",
       "      <td>20/10/2012</td>\n",
       "      <td>Standard Class</td>\n",
       "      <td>KW-16570</td>\n",
       "      <td>OFF-BI-10004428</td>\n",
       "      <td>Office Supplies</td>\n",
       "      <td>Binders</td>\n",
       "      <td>Cardinal Binder, Clear</td>\n",
       "      <td>35.44</td>\n",
       "      <td>4</td>\n",
       "      <td>0.0</td>\n",
       "      <td>4.96</td>\n",
       "      <td>1.37</td>\n",
       "      <td>Medium</td>\n",
       "      <td>VE_004</td>\n",
       "    </tr>\n",
       "    <tr>\n",
       "      <th>4</th>\n",
       "      <td>5</td>\n",
       "      <td>MX-2012-155047</td>\n",
       "      <td>15/10/2012</td>\n",
       "      <td>20/10/2012</td>\n",
       "      <td>Standard Class</td>\n",
       "      <td>KW-16570</td>\n",
       "      <td>OFF-AR-10004594</td>\n",
       "      <td>Office Supplies</td>\n",
       "      <td>Art</td>\n",
       "      <td>Sanford Canvas, Water Color</td>\n",
       "      <td>71.60</td>\n",
       "      <td>2</td>\n",
       "      <td>0.0</td>\n",
       "      <td>11.44</td>\n",
       "      <td>3.79</td>\n",
       "      <td>Medium</td>\n",
       "      <td>VE_005</td>\n",
       "    </tr>\n",
       "  </tbody>\n",
       "</table>\n",
       "</div>"
      ],
      "text/plain": [
       "   row_id        order_id  order_date   ship_date       ship_mode customer_id  \\\n",
       "0       1  MX-2014-143658  02/10/2014  06/10/2014  Standard Class    SC-20575   \n",
       "1       2  MX-2012-155047  15/10/2012  20/10/2012  Standard Class    KW-16570   \n",
       "2       3  MX-2012-155047  15/10/2012  20/10/2012  Standard Class    KW-16570   \n",
       "3       4  MX-2012-155047  15/10/2012  20/10/2012  Standard Class    KW-16570   \n",
       "4       5  MX-2012-155047  15/10/2012  20/10/2012  Standard Class    KW-16570   \n",
       "\n",
       "        product_id         category sub_category  \\\n",
       "0  OFF-LA-10002782  Office Supplies       Labels   \n",
       "1  FUR-FU-10004015        Furniture  Furnishings   \n",
       "2  FUR-BO-10002352        Furniture    Bookcases   \n",
       "3  OFF-BI-10004428  Office Supplies      Binders   \n",
       "4  OFF-AR-10004594  Office Supplies          Art   \n",
       "\n",
       "                         product_name   sales  quantity  discount  profit  \\\n",
       "0  Hon File Folder Labels, Adjustable   13.08         3       0.0    4.56   \n",
       "1                Tenex Clock, Durable  252.16         8       0.0   90.72   \n",
       "2        Ikea 3-Shelf Cabinet, Mobile  193.28         2       0.0   54.08   \n",
       "3              Cardinal Binder, Clear   35.44         4       0.0    4.96   \n",
       "4         Sanford Canvas, Water Color   71.60         2       0.0   11.44   \n",
       "\n",
       "   shipping_cost order_priority vendor_code  \n",
       "0           1.03         Medium      VE_001  \n",
       "1          13.45         Medium      VE_002  \n",
       "2           9.63         Medium      VE_003  \n",
       "3           1.37         Medium      VE_004  \n",
       "4           3.79         Medium      VE_005  "
      ]
     },
     "execution_count": 2,
     "metadata": {},
     "output_type": "execute_result"
    }
   ],
   "source": [
    "# reading the data & library\n",
    "import pandas as pd\n",
    "import warnings\n",
    "# Use the warning filter context manager to temporarily suppress warnings\n",
    "warnings.filterwarnings(\"ignore\")\n",
    "\n",
    "sales = pd.read_csv('sales_data.csv')\n",
    "sales.head()"
   ]
  },
  {
   "cell_type": "markdown",
   "metadata": {},
   "source": [
    "### Q1. What is the mean value of sales, the median value of shipping_cost and the maximum value of profit?"
   ]
  },
  {
   "cell_type": "code",
   "execution_count": 3,
   "metadata": {},
   "outputs": [
    {
     "data": {
      "text/html": [
       "<div>\n",
       "<style scoped>\n",
       "    .dataframe tbody tr th:only-of-type {\n",
       "        vertical-align: middle;\n",
       "    }\n",
       "\n",
       "    .dataframe tbody tr th {\n",
       "        vertical-align: top;\n",
       "    }\n",
       "\n",
       "    .dataframe thead th {\n",
       "        text-align: right;\n",
       "    }\n",
       "</style>\n",
       "<table border=\"1\" class=\"dataframe\">\n",
       "  <thead>\n",
       "    <tr style=\"text-align: right;\">\n",
       "      <th></th>\n",
       "      <th>row_id</th>\n",
       "      <th>sales</th>\n",
       "      <th>quantity</th>\n",
       "      <th>discount</th>\n",
       "      <th>profit</th>\n",
       "      <th>shipping_cost</th>\n",
       "    </tr>\n",
       "  </thead>\n",
       "  <tbody>\n",
       "    <tr>\n",
       "      <th>count</th>\n",
       "      <td>51290.00000</td>\n",
       "      <td>51290.000000</td>\n",
       "      <td>51290.000000</td>\n",
       "      <td>51290.000000</td>\n",
       "      <td>51290.000000</td>\n",
       "      <td>51290.000000</td>\n",
       "    </tr>\n",
       "    <tr>\n",
       "      <th>mean</th>\n",
       "      <td>25645.50000</td>\n",
       "      <td>246.490581</td>\n",
       "      <td>3.476545</td>\n",
       "      <td>0.142908</td>\n",
       "      <td>28.610982</td>\n",
       "      <td>26.375915</td>\n",
       "    </tr>\n",
       "    <tr>\n",
       "      <th>std</th>\n",
       "      <td>14806.29199</td>\n",
       "      <td>487.565361</td>\n",
       "      <td>2.278766</td>\n",
       "      <td>0.212280</td>\n",
       "      <td>174.340972</td>\n",
       "      <td>57.296804</td>\n",
       "    </tr>\n",
       "    <tr>\n",
       "      <th>min</th>\n",
       "      <td>1.00000</td>\n",
       "      <td>0.444000</td>\n",
       "      <td>1.000000</td>\n",
       "      <td>0.000000</td>\n",
       "      <td>-6599.978000</td>\n",
       "      <td>0.000000</td>\n",
       "    </tr>\n",
       "    <tr>\n",
       "      <th>25%</th>\n",
       "      <td>12823.25000</td>\n",
       "      <td>30.758625</td>\n",
       "      <td>2.000000</td>\n",
       "      <td>0.000000</td>\n",
       "      <td>0.000000</td>\n",
       "      <td>2.610000</td>\n",
       "    </tr>\n",
       "    <tr>\n",
       "      <th>50%</th>\n",
       "      <td>25645.50000</td>\n",
       "      <td>85.053000</td>\n",
       "      <td>3.000000</td>\n",
       "      <td>0.000000</td>\n",
       "      <td>9.240000</td>\n",
       "      <td>7.790000</td>\n",
       "    </tr>\n",
       "    <tr>\n",
       "      <th>75%</th>\n",
       "      <td>38467.75000</td>\n",
       "      <td>251.053200</td>\n",
       "      <td>5.000000</td>\n",
       "      <td>0.200000</td>\n",
       "      <td>36.810000</td>\n",
       "      <td>24.450000</td>\n",
       "    </tr>\n",
       "    <tr>\n",
       "      <th>max</th>\n",
       "      <td>51290.00000</td>\n",
       "      <td>22638.480000</td>\n",
       "      <td>14.000000</td>\n",
       "      <td>0.850000</td>\n",
       "      <td>8399.976000</td>\n",
       "      <td>933.570000</td>\n",
       "    </tr>\n",
       "  </tbody>\n",
       "</table>\n",
       "</div>"
      ],
      "text/plain": [
       "            row_id         sales      quantity      discount        profit  \\\n",
       "count  51290.00000  51290.000000  51290.000000  51290.000000  51290.000000   \n",
       "mean   25645.50000    246.490581      3.476545      0.142908     28.610982   \n",
       "std    14806.29199    487.565361      2.278766      0.212280    174.340972   \n",
       "min        1.00000      0.444000      1.000000      0.000000  -6599.978000   \n",
       "25%    12823.25000     30.758625      2.000000      0.000000      0.000000   \n",
       "50%    25645.50000     85.053000      3.000000      0.000000      9.240000   \n",
       "75%    38467.75000    251.053200      5.000000      0.200000     36.810000   \n",
       "max    51290.00000  22638.480000     14.000000      0.850000   8399.976000   \n",
       "\n",
       "       shipping_cost  \n",
       "count   51290.000000  \n",
       "mean       26.375915  \n",
       "std        57.296804  \n",
       "min         0.000000  \n",
       "25%         2.610000  \n",
       "50%         7.790000  \n",
       "75%        24.450000  \n",
       "max       933.570000  "
      ]
     },
     "execution_count": 3,
     "metadata": {},
     "output_type": "execute_result"
    }
   ],
   "source": [
    "# write your code here\n",
    "sales.describe()"
   ]
  },
  {
   "cell_type": "markdown",
   "metadata": {},
   "source": [
    "### Q2. What is the most common value of *ship_mode*? How many different customers are represented in this data set? "
   ]
  },
  {
   "cell_type": "code",
   "execution_count": 47,
   "metadata": {},
   "outputs": [
    {
     "name": "stdout",
     "output_type": "stream",
     "text": [
      "29842\n",
      "Different no. of customers : 1590\n"
     ]
    }
   ],
   "source": [
    "# write your code here\n",
    "print(sales['ship_mode'].value_counts()[0]) #[0] for max\n",
    "print(\"Different no. of customers :\", sales['customer_id'].nunique())"
   ]
  },
  {
   "cell_type": "markdown",
   "metadata": {},
   "source": [
    "## Creating subsets that satisfy specific criteria"
   ]
  },
  {
   "cell_type": "markdown",
   "metadata": {},
   "source": [
    "### Q3. How many transactions resulted in a loss (i.e. profit < 0)? What proportion is this of the total number?"
   ]
  },
  {
   "cell_type": "code",
   "execution_count": 40,
   "metadata": {},
   "outputs": [
    {
     "name": "stdout",
     "output_type": "stream",
     "text": [
      "       row_id        order_id  order_date   ship_date       ship_mode  \\\n",
      "16         17  US-2013-126655  26/06/2013  01/07/2013  Standard Class   \n",
      "17         18  US-2013-126655  26/06/2013  01/07/2013             NaN   \n",
      "18         19  US-2013-126655  26/06/2013  01/07/2013  Standard Class   \n",
      "19         20  US-2013-126655  26/06/2013  01/07/2013  Standard Class   \n",
      "23         24  US-2014-119753  03/10/2014  08/10/2014  Standard Class   \n",
      "...       ...             ...         ...         ...             ...   \n",
      "51275   51276    TU-2013-7900  28/05/2013  28/05/2013        Same Day   \n",
      "51276   51277    TU-2013-7800  09/08/2013  11/08/2013    Second Class   \n",
      "51277   51278    TU-2013-7800  09/08/2013  11/08/2013    Second Class   \n",
      "51278   51279    TU-2013-7800  09/08/2013  11/08/2013    Second Class   \n",
      "51279   51280    TU-2013-7800  09/08/2013  11/08/2013    Second Class   \n",
      "\n",
      "      customer_id        product_id         category sub_category  \\\n",
      "16       HE-14800   OFF-EN-10000761  Office Supplies    Envelopes   \n",
      "17       HE-14800   FUR-FU-10003066        Furniture  Furnishings   \n",
      "18       HE-14800   OFF-EN-10000075  Office Supplies    Envelopes   \n",
      "19       HE-14800   OFF-EN-10002226  Office Supplies    Envelopes   \n",
      "23       DW-13195   OFF-BI-10003934  Office Supplies      Binders   \n",
      "...           ...               ...              ...          ...   \n",
      "51275     DB-3210  TEC-BEL-10001971       Technology  Accessories   \n",
      "51276     MY-8295  OFF-ELI-10001812  Office Supplies     Supplies   \n",
      "51277     MY-8295  OFF-ADV-10004598  Office Supplies    Fasteners   \n",
      "51278     MY-8295  OFF-ADV-10000331  Office Supplies    Fasteners   \n",
      "51279     MY-8295  FUR-IKE-10001301        Furniture    Bookcases   \n",
      "\n",
      "                                        product_name    sales  quantity  \\\n",
      "16       Jiffy Peel and Seal, with clear poly window   18.840         2   \n",
      "17                         Deflect-O Frame, Duo Pack  308.280         7   \n",
      "18     GlobeWeis Interoffice Envelope, Security-Tint   40.176         2   \n",
      "19                    Jiffy Clasp Envelope, Recycled    8.784         3   \n",
      "23                       Acco Binding Machine, Clear   60.660         3   \n",
      "...                                              ...      ...       ...   \n",
      "51275                        Belkin Flash Drive, USB   16.860         1   \n",
      "51276                        Elite Shears, Easy Grip   19.452         1   \n",
      "51277                    Advantus Paper Clips, Metal    5.352         1   \n",
      "51278           Advantus Paper Clips, Assorted Sizes    5.580         1   \n",
      "51279                  Ikea Stackable Bookrack, Pine   49.572         1   \n",
      "\n",
      "       discount   profit  shipping_cost order_priority vendor_code  \n",
      "16          0.4   -6.600           1.60         Medium      VE_006  \n",
      "17          0.4 -149.100          27.77         Medium      VE_009  \n",
      "18          0.4   -6.064           2.14         Medium      VE_001  \n",
      "19          0.4   -4.836           0.38         Medium      VE_001  \n",
      "23          0.4  -20.220           4.00         Medium      VE_005  \n",
      "...         ...      ...            ...            ...         ...  \n",
      "51275       0.6  -11.400           6.49       Critical      VE_032  \n",
      "51276       0.6  -26.268           0.49         Medium      VE_035  \n",
      "51277       0.6   -4.818           0.25         Medium      VE_047  \n",
      "51278       0.6   -1.980           0.41         Medium      VE_035  \n",
      "51279       0.6  -12.408           0.74         Medium      VE_053  \n",
      "\n",
      "[12544 rows x 17 columns]\n",
      "Proportion :  24.457009163579645\n"
     ]
    }
   ],
   "source": [
    "# write your code here\n",
    "loss = sales[sales['profit']<0]\n",
    "print(loss)\n",
    "print(\"Proportion : \",  100 *loss.shape[0]/sales.shape[0]) "
   ]
  },
  {
   "cell_type": "markdown",
   "metadata": {},
   "source": [
    "### Q4. What percent of all transactions have the ship_mode 'Standard Class' and belong to the category 'Furniture'"
   ]
  },
  {
   "cell_type": "code",
   "execution_count": 44,
   "metadata": {},
   "outputs": [
    {
     "name": "stdout",
     "output_type": "stream",
     "text": [
      "       row_id        order_id  order_date   ship_date       ship_mode  \\\n",
      "1           2  MX-2012-155047  15/10/2012  20/10/2012  Standard Class   \n",
      "2           3  MX-2012-155047  15/10/2012  20/10/2012  Standard Class   \n",
      "12         13  MX-2013-156335  05/03/2013  12/03/2013  Standard Class   \n",
      "20         21  MX-2013-167759  19/12/2013  25/12/2013  Standard Class   \n",
      "48         49  MX-2011-127145  12/06/2011  17/06/2011  Standard Class   \n",
      "...       ...             ...         ...         ...             ...   \n",
      "51244   51245    BO-2012-5950  23/07/2012  30/07/2012  Standard Class   \n",
      "51250   51251    IZ-2012-3720  17/10/2012  21/10/2012  Standard Class   \n",
      "51255   51256    IV-2014-9400  17/04/2014  21/04/2014  Standard Class   \n",
      "51269   51270    EN-2014-1040  19/06/2014  23/06/2014  Standard Class   \n",
      "51271   51272    EN-2014-1040  19/06/2014  23/06/2014  Standard Class   \n",
      "\n",
      "      customer_id        product_id   category sub_category  \\\n",
      "1        KW-16570   FUR-FU-10004015  Furniture  Furnishings   \n",
      "2        KW-16570   FUR-BO-10002352  Furniture    Bookcases   \n",
      "12       TB-21250   FUR-CH-10002846  Furniture       Chairs   \n",
      "20       JE-15610   FUR-CH-10002132  Furniture       Chairs   \n",
      "48       SF-20200   FUR-FU-10003608  Furniture  Furnishings   \n",
      "...           ...               ...        ...          ...   \n",
      "51244      AM-705  FUR-SAF-10000085  Furniture    Bookcases   \n",
      "51250     PB-9150  FUR-SAU-10003188  Furniture    Bookcases   \n",
      "51255     CK-2325  FUR-DEF-10004141  Furniture  Furnishings   \n",
      "51269     MC-7605  FUR-RUB-10003699  Furniture  Furnishings   \n",
      "51271     MC-7605  FUR-NOV-10003195  Furniture       Chairs   \n",
      "\n",
      "                          product_name    sales  quantity  discount   profit  \\\n",
      "1                 Tenex Clock, Durable  252.160         8       0.0   90.720   \n",
      "2         Ikea 3-Shelf Cabinet, Mobile  193.280         2       0.0   54.080   \n",
      "12      Hon Steel Folding Chair, Black  210.640         4       0.0   50.480   \n",
      "20            Hon Rocking Chair, Black  273.472         4       0.2   95.712   \n",
      "48          Advantus Light Bulb, Black   26.760         2       0.0    7.480   \n",
      "...                                ...      ...       ...       ...      ...   \n",
      "51244   Safco Library with Doors, Pine  391.140         1       0.0  195.570   \n",
      "51250  Sauder Stackable Bookrack, Pine  298.680         2       0.0  113.460   \n",
      "51255   Deflect-O Photo Frame, Durable   48.930         1       0.0    6.840   \n",
      "51269  Rubbermaid Light Bulb, Duo Pack   37.800         2       0.0    6.000   \n",
      "51271            Novimex Chairmat, Red   56.340         1       0.0   16.890   \n",
      "\n",
      "       shipping_cost order_priority vendor_code  \n",
      "1              13.45         Medium      VE_002  \n",
      "2               9.63         Medium      VE_003  \n",
      "12             16.07         Medium      VE_002  \n",
      "20             48.17            Low      VE_001  \n",
      "48              2.04           High      VE_003  \n",
      "...              ...            ...         ...  \n",
      "51244          48.29            Low      VE_049  \n",
      "51250          17.84         Medium      VE_053  \n",
      "51255           4.59         Medium      VE_021  \n",
      "51269           3.95         Medium      VE_031  \n",
      "51271           5.32         Medium      VE_053  \n",
      "\n",
      "[5803 rows x 17 columns]\n",
      "11.314096315071163\n"
     ]
    }
   ],
   "source": [
    "# write your code here\n",
    "trans = sales[(sales['ship_mode'] == 'Standard Class') & (sales['category'] == 'Furniture')] \n",
    "print(trans)\n",
    "print(100 * trans.shape[0]/sales.shape[0])"
   ]
  },
  {
   "cell_type": "markdown",
   "metadata": {},
   "source": [
    "## Solutions"
   ]
  },
  {
   "cell_type": "code",
   "execution_count": 6,
   "metadata": {},
   "outputs": [
    {
     "data": {
      "text/html": [
       "<div>\n",
       "<style scoped>\n",
       "    .dataframe tbody tr th:only-of-type {\n",
       "        vertical-align: middle;\n",
       "    }\n",
       "\n",
       "    .dataframe tbody tr th {\n",
       "        vertical-align: top;\n",
       "    }\n",
       "\n",
       "    .dataframe thead th {\n",
       "        text-align: right;\n",
       "    }\n",
       "</style>\n",
       "<table border=\"1\" class=\"dataframe\">\n",
       "  <thead>\n",
       "    <tr style=\"text-align: right;\">\n",
       "      <th></th>\n",
       "      <th>row_id</th>\n",
       "      <th>sales</th>\n",
       "      <th>quantity</th>\n",
       "      <th>discount</th>\n",
       "      <th>profit</th>\n",
       "      <th>shipping_cost</th>\n",
       "    </tr>\n",
       "  </thead>\n",
       "  <tbody>\n",
       "    <tr>\n",
       "      <th>count</th>\n",
       "      <td>51290.00000</td>\n",
       "      <td>51290.000000</td>\n",
       "      <td>51290.000000</td>\n",
       "      <td>51290.000000</td>\n",
       "      <td>51290.000000</td>\n",
       "      <td>51290.000000</td>\n",
       "    </tr>\n",
       "    <tr>\n",
       "      <th>mean</th>\n",
       "      <td>25645.50000</td>\n",
       "      <td>246.490581</td>\n",
       "      <td>3.476545</td>\n",
       "      <td>0.142908</td>\n",
       "      <td>28.610982</td>\n",
       "      <td>26.375915</td>\n",
       "    </tr>\n",
       "    <tr>\n",
       "      <th>std</th>\n",
       "      <td>14806.29199</td>\n",
       "      <td>487.565361</td>\n",
       "      <td>2.278766</td>\n",
       "      <td>0.212280</td>\n",
       "      <td>174.340972</td>\n",
       "      <td>57.296804</td>\n",
       "    </tr>\n",
       "    <tr>\n",
       "      <th>min</th>\n",
       "      <td>1.00000</td>\n",
       "      <td>0.444000</td>\n",
       "      <td>1.000000</td>\n",
       "      <td>0.000000</td>\n",
       "      <td>-6599.978000</td>\n",
       "      <td>0.000000</td>\n",
       "    </tr>\n",
       "    <tr>\n",
       "      <th>25%</th>\n",
       "      <td>12823.25000</td>\n",
       "      <td>30.758625</td>\n",
       "      <td>2.000000</td>\n",
       "      <td>0.000000</td>\n",
       "      <td>0.000000</td>\n",
       "      <td>2.610000</td>\n",
       "    </tr>\n",
       "    <tr>\n",
       "      <th>50%</th>\n",
       "      <td>25645.50000</td>\n",
       "      <td>85.053000</td>\n",
       "      <td>3.000000</td>\n",
       "      <td>0.000000</td>\n",
       "      <td>9.240000</td>\n",
       "      <td>7.790000</td>\n",
       "    </tr>\n",
       "    <tr>\n",
       "      <th>75%</th>\n",
       "      <td>38467.75000</td>\n",
       "      <td>251.053200</td>\n",
       "      <td>5.000000</td>\n",
       "      <td>0.200000</td>\n",
       "      <td>36.810000</td>\n",
       "      <td>24.450000</td>\n",
       "    </tr>\n",
       "    <tr>\n",
       "      <th>max</th>\n",
       "      <td>51290.00000</td>\n",
       "      <td>22638.480000</td>\n",
       "      <td>14.000000</td>\n",
       "      <td>0.850000</td>\n",
       "      <td>8399.976000</td>\n",
       "      <td>933.570000</td>\n",
       "    </tr>\n",
       "  </tbody>\n",
       "</table>\n",
       "</div>"
      ],
      "text/plain": [
       "            row_id         sales      quantity      discount        profit  \\\n",
       "count  51290.00000  51290.000000  51290.000000  51290.000000  51290.000000   \n",
       "mean   25645.50000    246.490581      3.476545      0.142908     28.610982   \n",
       "std    14806.29199    487.565361      2.278766      0.212280    174.340972   \n",
       "min        1.00000      0.444000      1.000000      0.000000  -6599.978000   \n",
       "25%    12823.25000     30.758625      2.000000      0.000000      0.000000   \n",
       "50%    25645.50000     85.053000      3.000000      0.000000      9.240000   \n",
       "75%    38467.75000    251.053200      5.000000      0.200000     36.810000   \n",
       "max    51290.00000  22638.480000     14.000000      0.850000   8399.976000   \n",
       "\n",
       "       shipping_cost  \n",
       "count   51290.000000  \n",
       "mean       26.375915  \n",
       "std        57.296804  \n",
       "min         0.000000  \n",
       "25%         2.610000  \n",
       "50%         7.790000  \n",
       "75%        24.450000  \n",
       "max       933.570000  "
      ]
     },
     "execution_count": 6,
     "metadata": {},
     "output_type": "execute_result"
    }
   ],
   "source": [
    "# Q1 - some basic statistics of the numeric features\n",
    "sales.describe()"
   ]
  },
  {
   "cell_type": "code",
   "execution_count": 7,
   "metadata": {
    "code_folding": [
     0
    ]
   },
   "outputs": [
    {
     "name": "stdout",
     "output_type": "stream",
     "text": [
      "Mean Sales: 246.49058120258067\n",
      "Median Shipping Cost: 7.79\n",
      "Maximum Profit: 8399.976\n"
     ]
    }
   ],
   "source": [
    "# Q1\n",
    "# Calculate the mean value of sales\n",
    "mean_sales = sales['sales'].mean()\n",
    "\n",
    "# Calculate the median value of shipping_cost\n",
    "median_shipping_cost = sales['shipping_cost'].median()\n",
    "\n",
    "# Calculate the maximum value of profit\n",
    "max_profit = sales['profit'].max()\n",
    "\n",
    "# Print the results\n",
    "print(f\"Mean Sales: {mean_sales}\")\n",
    "print(f\"Median Shipping Cost: {median_shipping_cost}\")\n",
    "print(f\"Maximum Profit: {max_profit}\")\n"
   ]
  },
  {
   "cell_type": "code",
   "execution_count": 8,
   "metadata": {},
   "outputs": [
    {
     "name": "stdout",
     "output_type": "stream",
     "text": [
      "29842\n",
      "1590\n"
     ]
    }
   ],
   "source": [
    "# Q2\n",
    "### In order to get highest frequency shipping_mode , we will use value_counts()\n",
    "print(sales['ship_mode'].value_counts()[0])\n",
    "###  Number of unique customers in data\n",
    "print(sales['customer_id'].nunique())"
   ]
  },
  {
   "cell_type": "code",
   "execution_count": 9,
   "metadata": {
    "code_folding": [
     0
    ]
   },
   "outputs": [
    {
     "data": {
      "text/plain": [
       "(12544, 17)"
      ]
     },
     "execution_count": 9,
     "metadata": {},
     "output_type": "execute_result"
    }
   ],
   "source": [
    "# Q3 - subset of records with negative profits (i.e. loss)\n",
    "sales_no_loss = sales[sales['profit'] < 0]\n",
    "sales_no_loss.shape"
   ]
  },
  {
   "cell_type": "code",
   "execution_count": 10,
   "metadata": {
    "code_folding": [
     0
    ]
   },
   "outputs": [
    {
     "data": {
      "text/plain": [
       "24.457009163579645"
      ]
     },
     "execution_count": 10,
     "metadata": {},
     "output_type": "execute_result"
    }
   ],
   "source": [
    "# Q3 continued\n",
    "100 * sales_no_loss.shape[0]/sales.shape[0]"
   ]
  },
  {
   "cell_type": "code",
   "execution_count": 11,
   "metadata": {
    "code_folding": [
     0
    ]
   },
   "outputs": [
    {
     "data": {
      "text/plain": [
       "11.31"
      ]
     },
     "execution_count": 11,
     "metadata": {},
     "output_type": "execute_result"
    }
   ],
   "source": [
    "# Q4 - subset of records that have ship mode 'Standard Class' and category 'Furtniture'\n",
    "sales_subset = sales[(sales['ship_mode'] == 'Standard Class') & (sales['category'] == 'Furniture')]\n",
    "round(100*sales_subset.shape[0]/sales.shape[0], 2)"
   ]
  }
 ],
 "metadata": {
  "kernelspec": {
   "display_name": "Python 3",
   "language": "python",
   "name": "python3"
  },
  "language_info": {
   "codemirror_mode": {
    "name": "ipython",
    "version": 3
   },
   "file_extension": ".py",
   "mimetype": "text/x-python",
   "name": "python",
   "nbconvert_exporter": "python",
   "pygments_lexer": "ipython3",
   "version": "3.7.6"
  }
 },
 "nbformat": 4,
 "nbformat_minor": 5
}
